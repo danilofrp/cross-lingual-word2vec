{
 "metadata": {
  "language_info": {
   "codemirror_mode": {
    "name": "ipython",
    "version": 3
   },
   "file_extension": ".py",
   "mimetype": "text/x-python",
   "name": "python",
   "nbconvert_exporter": "python",
   "pygments_lexer": "ipython3",
   "version": "3.7.8-final"
  },
  "orig_nbformat": 2,
  "kernelspec": {
   "name": "Python 3.7.8 64-bit",
   "display_name": "Python 3.7.8 64-bit",
   "metadata": {
    "interpreter": {
     "hash": "9a139ee91aa0c0c703de3f6d61738888479023eb2dcd0ff79f15c99def10401a"
    }
   }
  }
 },
 "nbformat": 4,
 "nbformat_minor": 2,
 "cells": [
  {
   "cell_type": "code",
   "execution_count": null,
   "metadata": {},
   "outputs": [],
   "source": [
    "import sys\n",
    "import re\n",
    "import time\n",
    "import asyncio\n",
    "import numpy as np\n",
    "import pandas as pd\n",
    "from itertools import chain\n",
    "\n",
    "from tqdm import tqdm\n",
    "from pathlib import Path\n",
    "# from googletrans import Translator\n",
    "from functools import partial\n",
    "import importlib\n",
    "\n",
    "sys.path.append(\"..\")\n",
    "from src import utils\n",
    "from src.translator import Translator\n",
    "\n",
    "base_path = Path(\"..\") / \"data\"\n",
    "paracrawl_pt_data_path = base_path / \"parallel\" / \"paracrawl.en-pt\" / \"paracrawl.en-pt.pt.sample\"\n",
    "paracrawl_en_data_path = base_path / \"parallel\" / \"paracrawl.en-pt\" / \"paracrawl.en-pt.en.sample\"\n",
    "\n",
    "en_pt_dict_path = base_path / \"dicts\" / \"en-pt.json.sample\"\n",
    "pt_en_dict_path = base_path / \"dicts\" / \"pt-en.json.sample\"\n",
    "\n",
    "# n_lines = 2809381\n",
    "n_lines = 200\n",
    "\n",
    "random_generator = np.random.default_rng()\n",
    "remove_punct_regex = re.compile(r\"[^\\w\\s]\")\n",
    "remove_punct = partial(remove_punct_regex.sub, repl = \"\")\n",
    "translator = Translator(en_pt_dict_path, pt_en_dict_path)"
   ]
  },
  {
   "cell_type": "code",
   "execution_count": null,
   "metadata": {},
   "outputs": [],
   "source": [
    "chunk_size = 100\n",
    "chunk = next(utils.read_paracrawl_in_chunks(en_data_path = paracrawl_en_data_path, pt_data_path = paracrawl_pt_data_path, chunk_size = chunk_size))\n",
    "df = utils.filechunk_to_dataframe(chunk, split = False, pad = False)"
   ]
  },
  {
   "cell_type": "code",
   "execution_count": null,
   "metadata": {},
   "outputs": [],
   "source": [
    "df.head()"
   ]
  },
  {
   "cell_type": "code",
   "execution_count": null,
   "metadata": {},
   "outputs": [],
   "source": [
    "def create_crosslingual_phrase(phrases, src_lang, dest_lang, agressiveness = 0.5, enforce_match = True):\n",
    "    # print(f\"[ ] getting crosslingual rep for phrase {phrases[src_lang]}\")\n",
    "    original = phrases[src_lang].lower().split() \n",
    "    target = phrases[dest_lang]\n",
    "    new_phrase = original.copy()\n",
    "    indexes_to_translate = random_generator.choice(len(original), size = int(agressiveness*len(original)), replace=False)\n",
    "    words_to_translate = [original[i] for i in indexes_to_translate]\n",
    "    translations = translator.bulk_translate(words_to_translate, src_lang, dest_lang)\n",
    "    \n",
    "    for index, translation in zip(indexes_to_translate, translations):\n",
    "        if not enforce_match or translation in target:\n",
    "            new_phrase[index] = translation.lower()\n",
    "    # print(f\"[ ] done getting crosslingual rep for phrase {phrases[src_lang]}\")\n",
    "\n",
    "    return str.join(\" \", new_phrase)"
   ]
  },
  {
   "cell_type": "code",
   "execution_count": null,
   "metadata": {
    "tags": []
   },
   "outputs": [],
   "source": [
    "%%time\n",
    "result = df.apply(lambda row: create_crosslingual_phrase(row, \"en\", \"pt\", agressiveness = 1, enforce_match = True), axis = 1)\n",
    "# result = df.apply(lambda row: create_crosslingual_phrase(row, \"pt\", \"en\", agressiveness = 1, enforce_match = True), axis = 1)"
   ]
  },
  {
   "cell_type": "code",
   "execution_count": null,
   "metadata": {
    "tags": []
   },
   "outputs": [],
   "source": [
    "idx = 2\n",
    "print(df.loc[idx, \"en\"])\n",
    "print(df.loc[idx, \"pt\"])\n",
    "print(80*\"-\")\n",
    "print(result.iloc[2])"
   ]
  },
  {
   "cell_type": "code",
   "execution_count": null,
   "metadata": {
    "tags": []
   },
   "outputs": [],
   "source": [
    "src_lang = \"en\"\n",
    "dest_lang = \"pt\"\n",
    "line_count = df.shape[0]\n",
    "line_lenght = len(df.iloc[0, 0])\n",
    "original = np.array(list(df[src_lang].values))\n",
    "target = np.array(list(df[dest_lang].values))\n",
    "tentative_translation = original.copy()\n",
    "new_phrases = original.copy()\n",
    "\n",
    "indexes_to_translate = [i for i, w in enumerate(original.flatten()) if w != \"<pad_token>\"]\n",
    "words_to_translate = [original.flatten()[i] for i in indexes_to_translate]\n",
    "\n",
    "# translations = translator.translate(words_to_translate, src = src_lang, dest = dest_lang)\n",
    "translations = translator.bulk_translate(words_to_translate, from_lang = src_lang, to = dest_lang)"
   ]
  },
  {
   "cell_type": "code",
   "execution_count": null,
   "metadata": {},
   "outputs": [],
   "source": [
    "tentative_translation = original.flatten().copy()\n",
    "[tentative_translation[i] = t.text for i, t in zip(indexes_to_translate, translations)]\n",
    "tentative_translation.reshape((line_count, line_lenght))"
   ]
  },
  {
   "cell_type": "code",
   "execution_count": null,
   "metadata": {},
   "outputs": [],
   "source": [
    " try:\n",
    "    # print(f\"[ ] getting crosslingual rep for phrase {phrases[src_lang]}\")\n",
    "    original = phrases[src_lang].split() \n",
    "    target = phrases[dest_lang].split()\n",
    "    new_phrase = original.copy()\n",
    "    indexes_to_translate = random_generator.choice(len(original), size = int(agressiveness*len(original)), replace=False)\n",
    "    words_to_translate = [original[i] for i in indexes_to_translate]\n",
    "    translations = translator.translate(words_to_translate, src = src_lang, dest = dest_lang)\n",
    "    # translations = translator.translate(words_to_translate, target_language = dest_lang)\n",
    "    for index, translation in zip(indexes_to_translate, translations):\n",
    "        if not enforce_match or translation.text in target:\n",
    "            new_phrase[index] = translation.text.lower()\n",
    "    # print(f\"[-] done getting crosslingual rep for phrase {phrases[src_lang]}\")\n",
    "\n",
    "    # print(str.join(\" \", new_phrase))\n",
    "    return str.join(\" \", new_phrase)\n",
    "except Exception as ex:\n",
    "    print(f\"[+] {ex}\")\n",
    "    raise ex\n",
    "    # return phrases[src_lang]"
   ]
  }
 ]
}